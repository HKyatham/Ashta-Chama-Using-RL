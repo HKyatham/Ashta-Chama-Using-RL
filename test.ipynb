{
 "cells": [
  {
   "cell_type": "code",
   "execution_count": 1,
   "metadata": {},
   "outputs": [],
   "source": [
    "from ashta_chamma_env import AshtaChammaEnv"
   ]
  },
  {
   "cell_type": "code",
   "execution_count": null,
   "metadata": {},
   "outputs": [
    {
     "ename": "",
     "evalue": "",
     "output_type": "error",
     "traceback": [
      "\u001b[1;31mThe Kernel crashed while executing code in the current cell or a previous cell. \n",
      "\u001b[1;31mPlease review the code in the cell(s) to identify a possible cause of the failure. \n",
      "\u001b[1;31mClick <a href='https://aka.ms/vscodeJupyterKernelCrash'>here</a> for more info. \n",
      "\u001b[1;31mView Jupyter <a href='command:jupyter.viewOutput'>log</a> for further details."
     ]
    }
   ],
   "source": [
    "a = AshtaChammaEnv()\n",
    "# a.render()"
   ]
  },
  {
   "cell_type": "code",
   "execution_count": 3,
   "metadata": {},
   "outputs": [
    {
     "name": "stdout",
     "output_type": "stream",
     "text": [
      "[(0, 0), (0, 1), (0, 2), (0, 3), (1, 0), (1, 1), (1, 2), (1, 3), (2, 0), (2, 1), (2, 2), (2, 3), (3, 0), (3, 1), (3, 2), (3, 3)]\n"
     ]
    }
   ],
   "source": [
    "print([(i // 4, i % 4) for i in range(16)])"
   ]
  },
  {
   "cell_type": "code",
   "execution_count": null,
   "metadata": {},
   "outputs": [
    {
     "name": "stdout",
     "output_type": "stream",
     "text": [
      "pygame 2.5.2 (SDL 2.28.3, Python 3.8.3)\n",
      "Hello from the pygame community. https://www.pygame.org/contribute.html\n",
      "[[<rect(20, 20, 53, 53)>, <rect(73, 20, 53, 53)>, <rect(126, 20, 53, 53)>, <rect(179, 20, 53, 53)>, <rect(232, 20, 53, 53)>, <rect(285, 20, 53, 53)>, <rect(338, 20, 53, 53)>, <rect(391, 20, 53, 53)>, <rect(444, 20, 53, 53)>], [<rect(20, 73, 53, 53)>, <rect(73, 73, 53, 53)>, <rect(126, 73, 53, 53)>, <rect(179, 73, 53, 53)>, <rect(232, 73, 53, 53)>, <rect(285, 73, 53, 53)>, <rect(338, 73, 53, 53)>, <rect(391, 73, 53, 53)>, <rect(444, 73, 53, 53)>], [<rect(20, 126, 53, 53)>, <rect(73, 126, 53, 53)>, <rect(126, 126, 53, 53)>, <rect(179, 126, 53, 53)>, <rect(232, 126, 53, 53)>, <rect(285, 126, 53, 53)>, <rect(338, 126, 53, 53)>, <rect(391, 126, 53, 53)>, <rect(444, 126, 53, 53)>], [<rect(20, 179, 53, 53)>, <rect(73, 179, 53, 53)>, <rect(126, 179, 53, 53)>, <rect(179, 179, 53, 53)>, <rect(232, 179, 53, 53)>, <rect(285, 179, 53, 53)>, <rect(338, 179, 53, 53)>, <rect(391, 179, 53, 53)>, <rect(444, 179, 53, 53)>], [<rect(20, 232, 53, 53)>, <rect(73, 232, 53, 53)>, <rect(126, 232, 53, 53)>, <rect(179, 232, 53, 53)>, <rect(232, 232, 53, 53)>, <rect(285, 232, 53, 53)>, <rect(338, 232, 53, 53)>, <rect(391, 232, 53, 53)>, <rect(444, 232, 53, 53)>], [<rect(20, 285, 53, 53)>, <rect(73, 285, 53, 53)>, <rect(126, 285, 53, 53)>, <rect(179, 285, 53, 53)>, <rect(232, 285, 53, 53)>, <rect(285, 285, 53, 53)>, <rect(338, 285, 53, 53)>, <rect(391, 285, 53, 53)>, <rect(444, 285, 53, 53)>], [<rect(20, 338, 53, 53)>, <rect(73, 338, 53, 53)>, <rect(126, 338, 53, 53)>, <rect(179, 338, 53, 53)>, <rect(232, 338, 53, 53)>, <rect(285, 338, 53, 53)>, <rect(338, 338, 53, 53)>, <rect(391, 338, 53, 53)>, <rect(444, 338, 53, 53)>], [<rect(20, 391, 53, 53)>, <rect(73, 391, 53, 53)>, <rect(126, 391, 53, 53)>, <rect(179, 391, 53, 53)>, <rect(232, 391, 53, 53)>, <rect(285, 391, 53, 53)>, <rect(338, 391, 53, 53)>, <rect(391, 391, 53, 53)>, <rect(444, 391, 53, 53)>], [<rect(20, 444, 53, 53)>, <rect(73, 444, 53, 53)>, <rect(126, 444, 53, 53)>, <rect(179, 444, 53, 53)>, <rect(232, 444, 53, 53)>, <rect(285, 444, 53, 53)>, <rect(338, 444, 53, 53)>, <rect(391, 444, 53, 53)>, <rect(444, 444, 53, 53)>]]\n"
     ]
    },
    {
     "ename": "",
     "evalue": "",
     "output_type": "error",
     "traceback": [
      "\u001b[1;31mThe Kernel crashed while executing code in the current cell or a previous cell. \n",
      "\u001b[1;31mPlease review the code in the cell(s) to identify a possible cause of the failure. \n",
      "\u001b[1;31mClick <a href='https://aka.ms/vscodeJupyterKernelCrash'>here</a> for more info. \n",
      "\u001b[1;31mView Jupyter <a href='command:jupyter.viewOutput'>log</a> for further details."
     ]
    }
   ],
   "source": [
    "import pygame\n",
    "import time\n",
    "\n",
    "from helper import diceRoll, move, checkEnemy, possibleMoves, board_overview, adjustDisplay\n",
    "from player import Player\n",
    "\n",
    "#---------------------------------------------------------------------------------------------------\n",
    "pygame.init()\n",
    "SIZE=(width,height)=(800,600)\n",
    "screen=pygame.display.set_mode((width,height))\n",
    "\n",
    "#---------------------------------------------------------------------------------------------------\n",
    "# Caption & icon\n",
    "pygame.display.set_caption(\"Ashta Chamma\")\n",
    "icon=pygame.image.load(\"assets/icons/game_icon.png\")\n",
    "pygame.display.set_icon(icon)\n",
    "\n",
    "#-------------------------------------------------------------------------\n",
    "# Colours\n",
    "WHITE = (255, 255, 255)\n",
    "GRAY  = (180, 180, 180)\n",
    "BLACK = (0, 0, 0)\n",
    "\n",
    "# Turn colours R->B->Y->G\n",
    "colors=[(250, 39, 55), (42, 122, 218), (58, 154, 26), (220, 160, 20)]\n",
    "\n",
    "home_colors=[WHITE, WHITE, WHITE, WHITE]\n",
    "#---------------------------------------------------------------------------------------------------\n",
    "# Fonts\n",
    "OPEN_SANS = \"assets/fonts/OpenSans-Regular.ttf\"\n",
    "smallFont = pygame.font.Font(OPEN_SANS, 20)\n",
    "mediumFont = pygame.font.Font(OPEN_SANS, 28)\n",
    "largeFont = pygame.font.Font(OPEN_SANS, 40)\n",
    "\n",
    "\n",
    "#---------------------------------------------------------------------------------------------------\n",
    "# Board setup\n",
    "HEIGHT = 9\n",
    "WIDTH = 9\n",
    "BOARD_PADDING = 20\t\t\t\t\t\t\t\t\t\t\t\t  \n",
    "board_height = ((7/8) * height) - (BOARD_PADDING * 2)\t\n",
    "board_width = width - (BOARD_PADDING * 2)\n",
    "cell_size = int(min(board_height / WIDTH, board_width / HEIGHT))\n",
    "board_origin = (BOARD_PADDING, BOARD_PADDING)\n",
    "\n",
    "#----------------------------------------------------------------------------------------------------------\n",
    "# Intialization\n",
    "START=True\n",
    "isBoardDrawn=True\n",
    "running=True\n",
    "changeTurn=True\n",
    "mainPage=True\n",
    "helpPage=False\n",
    "rollDone=False\n",
    "calculateNow=False\n",
    "moveDone=True\n",
    "disNum=\"\"\n",
    "moves=[]\n",
    "k=[]\n",
    "for i in range(4):\n",
    "\tk.append(False)\n",
    "allPawns=[]\n",
    "\n",
    "turn=-1\n",
    "safe_places=[ (1,4), (2,2), (2,6), (4,1), (4,4), (4,7), (6,2), (6,6), (7,4) ]\n",
    "home_places=[(4,8), (8,4), (4,0), (0,4)]\n",
    "\n",
    "#----------------------------------------------------------------------------------------\n",
    "# Importing and Resizing Images\n",
    "cross=pygame.image.load(\"assets/icons/cross.png\")\n",
    "cross=pygame.transform.scale(cross,(53,53))\n",
    "\n",
    "game_name=pygame.image.load(\"assets/icons/logo.gif\")\n",
    "game_name=pygame.transform.scale(game_name,(600,100))\n",
    "\n",
    "instructions=pygame.image.load(\"assets/icons/instruction.png\")\n",
    "instructions=pygame.transform.scale(instructions, (790,350))\n",
    "def drawBoard():\n",
    "\t\"\"\" Draws the board on to the screen and return a 2D list representing each positon of the square \"\"\"\n",
    "\n",
    "\tcells = []\n",
    "\th_color=0\n",
    "\tfor i in range(HEIGHT):\n",
    "\t\trow = []\n",
    "\t\tfor j in range(WIDTH):\n",
    "\n",
    "\t\t\t# Draw rectangle for cell\n",
    "\t\t\trect = pygame.Rect(\n",
    "\t\t\t\tboard_origin[0] + j * cell_size,\n",
    "\t\t\t\tboard_origin[1] + i * cell_size,\n",
    "\t\t\t\tcell_size, cell_size\n",
    "\t\t\t)\n",
    "\t\t\tif(i!=0 and i!=HEIGHT-1 and j!=0 and j!=WIDTH-1):\n",
    "\t\t\t\tif((i,j) in safe_places):\n",
    "\t\t\t\t\tpygame.draw.rect(screen, (240, 207, 174), rect)\n",
    "\t\t\t\t\tpygame.draw.rect(screen, WHITE, rect, 2)\n",
    "\t\t\t\t\tscreen.blit(cross,(board_origin[0] + j * cell_size,board_origin[1] + i * cell_size))\n",
    "\t\t\t\telse:\n",
    "\t\t\t\t\tpygame.draw.rect(screen, (240, 207, 174), rect)\n",
    "\t\t\t\t\tpygame.draw.rect(screen, WHITE, rect, 2)\n",
    "\t\t\telse:\n",
    "\t\t\t\tif((i,j) in home_places):\n",
    "\t\t\t\t\tpygame.draw.rect(screen,home_colors[h_color], rect)\n",
    "\t\t\t\t\tpygame.draw.rect(screen, WHITE, rect, 2)\n",
    "\t\t\t\t\th_color=(h_color+1)%4\n",
    "\t\t\t\t\t\n",
    "\t\t\t\telse:\n",
    "\t\t\t\t\tpygame.draw.rect(screen, BLACK, rect)\n",
    "\t\t\t\t\tpygame.draw.rect(screen, BLACK, rect, 2)\n",
    "\t\t\trow.append(rect)\n",
    "\t\tcells.append(row)\n",
    "\treturn cells\n",
    "cells = drawBoard()\n",
    "print(cells)"
   ]
  },
  {
   "cell_type": "code",
   "execution_count": null,
   "metadata": {},
   "outputs": [],
   "source": []
  },
  {
   "cell_type": "code",
   "execution_count": null,
   "metadata": {},
   "outputs": [
    {
     "name": "stdout",
     "output_type": "stream",
     "text": [
      "pygame 2.5.2 (SDL 2.28.3, Python 3.8.3)\n",
      "Hello from the pygame community. https://www.pygame.org/contribute.html\n",
      "Possible Moves for Player 0: [(4, 8), (4, 8), (4, 8), (2, 7)]\n",
      "[<player.Player object at 0x000002642EEF9280>, <player.Player object at 0x000002642EEF9220>, <player.Player object at 0x000002642EEF92B0>, <player.Player object at 0x000002642F086070>]\n"
     ]
    },
    {
     "ename": "",
     "evalue": "",
     "output_type": "error",
     "traceback": [
      "\u001b[1;31mThe Kernel crashed while executing code in the current cell or a previous cell. \n",
      "\u001b[1;31mPlease review the code in the cell(s) to identify a possible cause of the failure. \n",
      "\u001b[1;31mClick <a href='https://aka.ms/vscodeJupyterKernelCrash'>here</a> for more info. \n",
      "\u001b[1;31mView Jupyter <a href='command:jupyter.viewOutput'>log</a> for further details."
     ]
    }
   ],
   "source": [
    "from board import Board\n",
    "from player import Player\n",
    "# Create the board instance\n",
    "board = Board()\n",
    "\n",
    "# Add players\n",
    "board.add_player(Player(0, [(0,4), (0,4), (0,4), (0,4)], (250, 39, 55)))  # Red player\n",
    "board.add_player(Player(1, [(4,0), (4,0), (4,0), (4,0)], (42, 122, 218)))  # Blue player\n",
    "board.add_player(Player(2, [(8,4), (8,4), (8,4), (8,4)], (0, 128, 0)))\n",
    "board.add_player(Player(3, [(4,8), (4,8), (4,8), (4,8)], (255, 255, 0)))\n",
    "# Get possible moves for player 0\n",
    "possible_moves = board.move(0)\n",
    "possible_moves = board.move(1)\n",
    "possible_moves = board.move(2)\n",
    "possible_moves = board.move(3)\n",
    "print(\"Possible Moves for Player 0:\", possible_moves)\n",
    "\n",
    "# Update the board with a move\n",
    "# if possible_moves:\n",
    "#     pawn_index, new_position = possible_moves[0]\n",
    "#     board.update(board.board_state, 0, pawn_index, new_position)\n",
    "\n",
    "print(board.players)\n",
    "board.render()"
   ]
  },
  {
   "cell_type": "code",
   "execution_count": 61,
   "metadata": {},
   "outputs": [
    {
     "name": "stdout",
     "output_type": "stream",
     "text": [
      "[(3, 4), (3, 4), (3, 4), (4, 4)]\n"
     ]
    }
   ],
   "source": [
    "print(board.players[0].pawns)"
   ]
  },
  {
   "cell_type": "code",
   "execution_count": 68,
   "metadata": {},
   "outputs": [
    {
     "name": "stdout",
     "output_type": "stream",
     "text": [
      "Possible Moves for Player 0: [(4, 4), (3, 4), (3, 4), (4, 4)]\n"
     ]
    }
   ],
   "source": [
    "possible_moves = board.move(0)\n",
    "print(\"Possible Moves for Player 0:\", possible_moves)"
   ]
  },
  {
   "cell_type": "code",
   "execution_count": null,
   "metadata": {},
   "outputs": [
    {
     "ename": "",
     "evalue": "",
     "output_type": "error",
     "traceback": [
      "\u001b[1;31mThe Kernel crashed while executing code in the current cell or a previous cell. \n",
      "\u001b[1;31mPlease review the code in the cell(s) to identify a possible cause of the failure. \n",
      "\u001b[1;31mClick <a href='https://aka.ms/vscodeJupyterKernelCrash'>here</a> for more info. \n",
      "\u001b[1;31mView Jupyter <a href='command:jupyter.viewOutput'>log</a> for further details."
     ]
    }
   ],
   "source": []
  },
  {
   "cell_type": "code",
   "execution_count": 5,
   "metadata": {},
   "outputs": [
    {
     "name": "stdout",
     "output_type": "stream",
     "text": [
      "3\n"
     ]
    }
   ],
   "source": [
    "import random\n",
    "print(random.randint(0,3))"
   ]
  },
  {
   "cell_type": "code",
   "execution_count": null,
   "metadata": {},
   "outputs": [],
   "source": []
  }
 ],
 "metadata": {
  "kernelspec": {
   "display_name": "Python 3",
   "language": "python",
   "name": "python3"
  },
  "language_info": {
   "codemirror_mode": {
    "name": "ipython",
    "version": 3
   },
   "file_extension": ".py",
   "mimetype": "text/x-python",
   "name": "python",
   "nbconvert_exporter": "python",
   "pygments_lexer": "ipython3",
   "version": "3.8.3"
  }
 },
 "nbformat": 4,
 "nbformat_minor": 2
}
